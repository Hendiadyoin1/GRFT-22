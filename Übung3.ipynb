{
 "cells": [
  {
   "cell_type": "code",
   "execution_count": null,
   "metadata": {},
   "outputs": [],
   "source": [
    "from helpers import *"
   ]
  },
  {
   "cell_type": "code",
   "execution_count": null,
   "metadata": {},
   "outputs": [],
   "source": [
    "# bi elliptic\n",
    "rA =   7_000_000 # m\n",
    "rB = 210_000_000 # m\n",
    "rC = 105_000_000 # m\n",
    "rD = 105_000_000 # m\n",
    "\n",
    "vA = orbital_speed_circle(rA)\n",
    "vAB = orbital_speed(rA, (rA+rB)/2)\n",
    "dvAB = vAB - vA\n",
    "\n",
    "vBC = orbital_speed(rB,(rB+rC)/2)\n",
    "dvBC = orbital_speed(rB,(rB+rC)/2) - orbital_speed(rB,(rA+rB)/2)\n",
    "\n",
    "vCD = orbital_speed_circle(rC)\n",
    "dvCD = orbital_speed(rC,(rB+rC)/2) - orbital_speed_circle(rD)\n",
    "\n",
    "dv = dvAB + dvBC + dvCD\n",
    "\n",
    "T_elliptical = orbital_period((rA+rB)/2)/2 + orbital_period((rB+rC)/2)/2\n",
    "T_hohmann = orbital_period((rA+rC)/2)/2\n",
    "\n",
    "print(f\"AB: {dvAB/1000:.5}km/s BC: {dvBC/1000:.5}km/s CD: {dvCD/1000:.5}km/s Total: {dv/1000:.6}km/s\")\n",
    "print(f\"                                             Hohmann: {hohmann_manoeuvre(rA-r_E, rD-r_E)/1000:.6}km/s\")\n",
    "print(f\"Elliptical: {T_elliptical/60/60:7.5}h\")\n",
    "print(f\"   Hohmann: {T_hohmann/60/60:7.4}h\")"
   ]
  },
  {
   "cell_type": "code",
   "execution_count": null,
   "metadata": {},
   "outputs": [],
   "source": [
    "rA = 7000e3                  # m\n",
    "rB = np.linspace(150e6,1e10) # m\n",
    "rC = rA * np.linspace(5,20) # m\n",
    "\n",
    "dv = bi_elliptical_transfer(rA-r_E, rC-r_E, 210_000_000-r_E) - hohmann_manoeuvre(rA-r_E, rC-r_E)\n",
    "# plt.xscale(\"log\")\n",
    "plt.plot(rC/rA,np.zeros_like(rC))\n",
    "plt.plot(rC/rA,dv)"
   ]
  },
  {
   "cell_type": "code",
   "execution_count": null,
   "metadata": {},
   "outputs": [],
   "source": [
    "h = 350e3\n",
    "i = np.deg2rad(96.85)\n",
    "e = 0\n",
    "dO = J2_perturbation(h+r_E, e, i)\n",
    "print(f\"Precession: {np.rad2deg(dO)*60*60*24:4.4}°/d\")\n",
    "\n",
    "h2 = 900e3\n",
    "i2 = J2_inclination_for_period(h2+r_E, e, 365.2425 * 24 * 60 * 60)\n",
    "dV = hohmann_and_inclination_change(h, h2, abs(i-i2))\n",
    "# dV2 = bi_elliptical_and_inclination_change(h, h2, 2e6, abs(i-i2))\n",
    "dT = hohmann_time(h, h2)\n",
    "\n",
    "print(f\"dV: {dV/1000:4.4}km/s\")\n",
    "print(f\"dT: {dT/60:4.4}min\")\n",
    "print(f\" I: {np.rad2deg(i2):4.3}°\")\n",
    "\n",
    "e_T = (h2-h) / (h+h2+r_E*2)\n",
    "print(f\" e:  {e_T:4.4}\")"
   ]
  }
 ],
 "metadata": {
  "interpreter": {
   "hash": "e7370f93d1d0cde622a1f8e1c04877d8463912d04d973331ad4851f04de6915a"
  },
  "kernelspec": {
   "display_name": "Python 3.8.10 64-bit",
   "language": "python",
   "name": "python3"
  },
  "language_info": {
   "codemirror_mode": {
    "name": "ipython",
    "version": 3
   },
   "file_extension": ".py",
   "mimetype": "text/x-python",
   "name": "python",
   "nbconvert_exporter": "python",
   "pygments_lexer": "ipython3",
   "version": "3.8.10"
  },
  "orig_nbformat": 4
 },
 "nbformat": 4,
 "nbformat_minor": 2
}
