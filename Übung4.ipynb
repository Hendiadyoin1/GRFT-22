{
 "cells": [
  {
   "cell_type": "code",
   "execution_count": null,
   "metadata": {},
   "outputs": [],
   "source": [
    "from helpers import *"
   ]
  },
  {
   "cell_type": "code",
   "execution_count": null,
   "metadata": {},
   "outputs": [],
   "source": [
    "m_0 = 2_017_000    # kg\n",
    "m_N = 29_000       # kg\n",
    "m_orbiter = 111_000  # kg\n",
    "m_A = 738_000      # kg\n",
    "m_A_T = 703_000    # kg\n",
    "m_2SRB = 584_000 * 2   # kg\n",
    "m_2SRB_T = 500_000 * 2 # kg"
   ]
  },
  {
   "cell_type": "code",
   "execution_count": null,
   "metadata": {},
   "outputs": [],
   "source": [
    "# Phase 1\n",
    "c_Main = 4300     # m/s\n",
    "dm_Main = 3 * 500 # kg/s\n",
    "Isp_SRB = 300     # s\n",
    "t_1 = 120         # s\n",
    "g = 9.81          # m/s² \n",
    "\n",
    "m_B1 = m_0 - m_2SRB_T - dm_Main * t_1\n",
    "\n",
    "c_SRB = Isp_SRB * g\n",
    "dm_SRB = m_2SRB_T / t_1\n",
    " \n",
    "# ce = SUM(c*dm/dt)/SUM(dm/dt) \n",
    "c1 = (c_Main*dm_Main + c_SRB*dm_SRB)/(dm_Main + dm_SRB)\n",
    "# dv = c * ln(m0/mB)\n",
    "dv1 = c1 * np.log(m_0/m_B1)\n",
    "\n",
    "dv1"
   ]
  },
  {
   "cell_type": "code",
   "execution_count": null,
   "metadata": {},
   "outputs": [],
   "source": [
    "# Phase 2\n",
    "m_02 = m_0 - m_2SRB - dm_Main * t_1\n",
    "m_B2 = m_0 - m_2SRB - m_A_T\n",
    " \n",
    "# dv = ce * ln(m0/mb)\n",
    "dv2 = c_Main * np.log(m_02/m_B2)\n",
    "dv2"
   ]
  },
  {
   "cell_type": "code",
   "execution_count": null,
   "metadata": {},
   "outputs": [],
   "source": [
    "# Phase 3\n",
    "m_03 = m_0 - m_2SRB - m_A\n",
    "# In der dritten Phase haben wir nur noch den Orbiter\n",
    "assert(m_03==m_orbiter)\n",
    "\n",
    "m_OMS_T = 11_000 # kg\n",
    "c_OMS = 3000     # m/s\n",
    "\n",
    "dv3 = c_OMS * np.log(m_03/ (m_03 - m_OMS_T))\n",
    "dv3"
   ]
  },
  {
   "cell_type": "code",
   "execution_count": null,
   "metadata": {},
   "outputs": [],
   "source": [
    "dv = dv1 + dv2 + dv3\n",
    "dv"
   ]
  },
  {
   "cell_type": "code",
   "execution_count": null,
   "metadata": {},
   "outputs": [],
   "source": []
  }
 ],
 "metadata": {
  "interpreter": {
   "hash": "e7370f93d1d0cde622a1f8e1c04877d8463912d04d973331ad4851f04de6915a"
  },
  "kernelspec": {
   "display_name": "Python 3.8.10 64-bit",
   "language": "python",
   "name": "python3"
  },
  "language_info": {
   "codemirror_mode": {
    "name": "ipython",
    "version": 3
   },
   "file_extension": ".py",
   "mimetype": "text/x-python",
   "name": "python",
   "nbconvert_exporter": "python",
   "pygments_lexer": "ipython3",
   "version": "3.8.10"
  },
  "orig_nbformat": 4
 },
 "nbformat": 4,
 "nbformat_minor": 2
}
