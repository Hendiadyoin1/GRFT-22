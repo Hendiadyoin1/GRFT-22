{
 "cells": [
  {
   "cell_type": "code",
   "execution_count": null,
   "metadata": {},
   "outputs": [],
   "source": [
    "from helpers import *"
   ]
  },
  {
   "cell_type": "code",
   "execution_count": null,
   "metadata": {},
   "outputs": [],
   "source": [
    "#1\n",
    "H_T = 679e3 # m\n",
    "i_T = np.deg2rad(28.5146)\n",
    "\n",
    "local_radius = r_E*np.sin(i_T)\n",
    "v_0 = 2*np.pi * local_radius/sidereal_day"
   ]
  },
  {
   "cell_type": "code",
   "execution_count": null,
   "metadata": {},
   "outputs": [],
   "source": [
    "r_T = H_T + r_E\n",
    "v_T = orbital_speed_circle(r_T)\n",
    "r_T, v_T"
   ]
  },
  {
   "cell_type": "code",
   "execution_count": null,
   "metadata": {},
   "outputs": [],
   "source": [
    "dv_i1 = 291 # m/s\n",
    "# dv =  2 * v1 * np.sin(di / 2)\n",
    "delta_i_1 = np.rad2deg(np.arcsin(dv_i1/v_T/2)) * 2\n",
    "i_1 = np.rad2deg(i_T) + delta_i_1\n",
    "\n",
    "delta_i_1, i_1"
   ]
  },
  {
   "cell_type": "code",
   "execution_count": null,
   "metadata": {},
   "outputs": [],
   "source": []
  }
 ],
 "metadata": {
  "interpreter": {
   "hash": "e7370f93d1d0cde622a1f8e1c04877d8463912d04d973331ad4851f04de6915a"
  },
  "kernelspec": {
   "display_name": "Python 3.8.10 64-bit",
   "language": "python",
   "name": "python3"
  },
  "language_info": {
   "codemirror_mode": {
    "name": "ipython",
    "version": 3
   },
   "file_extension": ".py",
   "mimetype": "text/x-python",
   "name": "python",
   "nbconvert_exporter": "python",
   "pygments_lexer": "ipython3",
   "version": "3.8.10"
  },
  "orig_nbformat": 4
 },
 "nbformat": 4,
 "nbformat_minor": 2
}
