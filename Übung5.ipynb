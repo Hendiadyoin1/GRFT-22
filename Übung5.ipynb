{
 "cells": [
  {
   "cell_type": "code",
   "execution_count": null,
   "metadata": {},
   "outputs": [],
   "source": [
    "from helpers import *\n",
    "from pprint import pprint as pp"
   ]
  },
  {
   "cell_type": "code",
   "execution_count": null,
   "metadata": {},
   "outputs": [],
   "source": [
    "ce = 16_500      # m/s\n",
    "F = 0.07         # N\n",
    "m0 = 365         # kg\n",
    "mt = 70          # kg\n",
    "r = 400e3  + r_E # m\n",
    "\n",
    "# F = ce * dmdt\n",
    "dmdt = F / ce\n",
    "\n",
    "dt = mt / dmdt\n",
    "# Antriebsvermögen (vis-viva)\n",
    "dv = ce * np.log(m0/(m0-mt))\n",
    "\n",
    "# Endgeschwindigkeit und Höhe\n",
    "v1 = orbital_speed_circle(r)\n",
    "v2 = v1 - dv\n",
    "r2 = orbital_height_from_speed(v2)\n",
    "\n",
    "print(\n",
    "    f\"dm/dt: {dmdt*1e6      :9.3f} mg/s\",\n",
    "    f\"   dt: {dt/60/60/24   :9.3f} d\",\n",
    "    f\"   dv: {dv            :9.3f} d\",\n",
    "    f\"   v2: {v2            :9.3f} m/s\",\n",
    "    f\"   h2: {(r2 - r_E)/1e3:9.3f} km\",\n",
    "    sep = \"\\n\"\n",
    ")"
   ]
  },
  {
   "cell_type": "code",
   "execution_count": null,
   "metadata": {},
   "outputs": [],
   "source": [
    "ce2 = 4_000\n",
    "dv2 = hohmann_manoeuvre(r-r_E,(r2 - r_E))\n",
    "# Gesucht: m_t\n",
    "dv2"
   ]
  },
  {
   "cell_type": "code",
   "execution_count": null,
   "metadata": {},
   "outputs": [],
   "source": []
  }
 ],
 "metadata": {
  "interpreter": {
   "hash": "e7370f93d1d0cde622a1f8e1c04877d8463912d04d973331ad4851f04de6915a"
  },
  "kernelspec": {
   "display_name": "Python 3.8.10 64-bit",
   "language": "python",
   "name": "python3"
  },
  "language_info": {
   "codemirror_mode": {
    "name": "ipython",
    "version": 3
   },
   "file_extension": ".py",
   "mimetype": "text/x-python",
   "name": "python",
   "nbconvert_exporter": "python",
   "pygments_lexer": "ipython3",
   "version": "3.8.10"
  },
  "orig_nbformat": 4
 },
 "nbformat": 4,
 "nbformat_minor": 2
}
