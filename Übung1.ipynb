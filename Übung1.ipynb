{
 "cells": [
  {
   "cell_type": "code",
   "execution_count": null,
   "metadata": {},
   "outputs": [],
   "source": [
    "import numpy as np\n",
    "from numpy import pi\n",
    "import pandas as pd"
   ]
  },
  {
   "cell_type": "code",
   "execution_count": null,
   "metadata": {},
   "outputs": [],
   "source": [
    "l = 4.3     # m\n",
    "t = 60 * 60 # 60s/min * 60min/h * 1h/rev"
   ]
  },
  {
   "cell_type": "code",
   "execution_count": null,
   "metadata": {},
   "outputs": [],
   "source": [
    "v = 2 * pi * l / t\n",
    "f\"{v:.2e} m/s\""
   ]
  },
  {
   "cell_type": "code",
   "execution_count": null,
   "metadata": {},
   "outputs": [],
   "source": [
    "# SPEED ISS\n",
    "# v = sqrt(µ/a) ; a := h + r_E\n",
    "µ = 3.986004418e14 # m³ / s²\n",
    "r_E = 6_371_000    # m\n",
    "h = 400 * 1000     # m\n",
    "r = h + r_E        # m\n",
    "v = np.sqrt(µ/r)   # m / s\n",
    "T = 2 * pi * r / v # s\n",
    "print(f\"v: {v:.3E} m/s\")\n",
    "print(f\"T: {T/60:.3} min\")"
   ]
  },
  {
   "cell_type": "code",
   "execution_count": null,
   "metadata": {},
   "outputs": [],
   "source": [
    "# GEOSTATIONARY HEIGHT\n",
    "T = 23.93447192 * 60 * 60            # s (Sidersicher Tag)\n",
    "# T  = U / v = 2*pi*a / sqrt(µ/a)    | ^2\n",
    "# T² = 4 pi² * a³ / µ                | /(2pi/µ)\n",
    "# a³ = T²*µ / 4 / pi²                | cbrt()\n",
    "a = np.cbrt(T**2 * µ / 4. / pi / pi)\n",
    "v = np.sqrt(µ/a)\n",
    "\n",
    "print(f\"Radius: {a/1000:.3} km\")\n",
    "print(f\"Height: {(a-r_E)/1000:.3} km\")\n",
    "print(f\" Speed: {v/1000:.3} km/s\")"
   ]
  },
  {
   "cell_type": "code",
   "execution_count": null,
   "metadata": {},
   "outputs": [],
   "source": [
    "# MOLNIYA ORBIT\n",
    "apo  = 40_000_000                                # m\n",
    "peri = 600_000                                   # m\n",
    "a = (peri + apo + 2*r_E) / 2                     # m\n",
    "v_peri = np.sqrt(µ * (2 / (r_E + peri) - 1 / a)) # m/s\n",
    "v_apo  = np.sqrt(µ * (2 / (r_E + apo)  - 1 / a)) # m/s\n",
    "\n",
    "# h = r * v\n",
    "h_peri = (r_E + peri) * v_peri\n",
    "h_apo =  (r_E + apo) * v_apo\n",
    "\n",
    "print(f\"h_peri: {h_peri:.3} m^2/s\")\n",
    "print(f\" h_apo: {h_apo:.3} m^2/s\")"
   ]
  },
  {
   "cell_type": "code",
   "execution_count": null,
   "metadata": {},
   "outputs": [],
   "source": [
    "# MOON HEIGHT (aprox)\n",
    "T = 27.3217 * 24 * 60 * 60           # s\n",
    "# T  = U / v = 2*pi*a / sqrt(µ/a)    | ^2\n",
    "# T² = 4 pi² * a³ / µ                | /(2pi/µ)\n",
    "# a³ = T²*µ / 4 / pi²                | cbrt()\n",
    "a = np.cbrt(T**2 * µ / 4. / pi / pi) # m\n",
    "v = np.sqrt(µ/a)                     # m/s\n",
    "\n",
    "print(f\"Radius: {a/1000:.3} km\")\n",
    "print(f\"Height: {(a-r_E)/1000:.3} km\")\n",
    "print(f\" Speed: {v/1000:.3} km/s\")"
   ]
  },
  {
   "cell_type": "code",
   "execution_count": null,
   "metadata": {},
   "outputs": [],
   "source": [
    "from helpers import *"
   ]
  },
  {
   "cell_type": "code",
   "execution_count": null,
   "metadata": {},
   "outputs": [],
   "source": [
    "# Moon escape vel\n",
    "print(f\"Moon escape: {escape_velocity(r_Moon, µ_Moon)} m/s\")"
   ]
  },
  {
   "cell_type": "code",
   "execution_count": null,
   "metadata": {},
   "outputs": [],
   "source": []
  }
 ],
 "metadata": {
  "interpreter": {
   "hash": "31f2aee4e71d21fbe5cf8b01ff0e069b9275f58929596ceb00d14d90e3e16cd6"
  },
  "kernelspec": {
   "display_name": "Python 3.9.2 64-bit",
   "language": "python",
   "name": "python3"
  },
  "language_info": {
   "codemirror_mode": {
    "name": "ipython",
    "version": 3
   },
   "file_extension": ".py",
   "mimetype": "text/x-python",
   "name": "python",
   "nbconvert_exporter": "python",
   "pygments_lexer": "ipython3",
   "version": "3.9.2"
  },
  "orig_nbformat": 4
 },
 "nbformat": 4,
 "nbformat_minor": 2
}
