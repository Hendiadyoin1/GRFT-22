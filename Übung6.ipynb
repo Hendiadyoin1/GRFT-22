{
 "cells": [
  {
   "cell_type": "code",
   "execution_count": null,
   "metadata": {},
   "outputs": [],
   "source": [
    "from helpers import *\n"
   ]
  },
  {
   "cell_type": "code",
   "execution_count": null,
   "metadata": {},
   "outputs": [],
   "source": [
    "\n",
    "# Solar constant\n",
    "S0 = 1367 # W/m²\n",
    "eta = 0.2\n",
    "\n",
    "r_a = np.array([1.2432 * AU, 3.4 * AU, 5.6824 * AU])\n",
    "P = 850\n",
    "# Theta = S0 * 4 * np.pi * r_Earth**2 # Radiation Power Sun\n",
    "# S = Theta / 4 / np.pi / r_a**2\n",
    "# or simply\n",
    "S = S0 * (r_Earth/r_a)**2\n",
    "A = P/S/eta\n",
    "\n",
    "for r, a, s in zip(r_a, A, S):\n",
    "    print(f\"R: {r/AU:5.3f} AU A: {a:7.3f} m² S: {s:7.3f} W/m²\")\n"
   ]
  }
 ],
 "metadata": {
  "interpreter": {
   "hash": "e7370f93d1d0cde622a1f8e1c04877d8463912d04d973331ad4851f04de6915a"
  },
  "kernelspec": {
   "display_name": "Python 3.8.10 64-bit",
   "language": "python",
   "name": "python3"
  },
  "language_info": {
   "codemirror_mode": {
    "name": "ipython",
    "version": 3
   },
   "file_extension": ".py",
   "mimetype": "text/x-python",
   "name": "python",
   "nbconvert_exporter": "python",
   "pygments_lexer": "ipython3",
   "version": "3.8.10"
  },
  "orig_nbformat": 4
 },
 "nbformat": 4,
 "nbformat_minor": 2
}
