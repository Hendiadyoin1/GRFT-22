{
 "cells": [
  {
   "cell_type": "code",
   "execution_count": null,
   "metadata": {},
   "outputs": [],
   "source": [
    "from helpers import *"
   ]
  },
  {
   "cell_type": "code",
   "execution_count": null,
   "metadata": {},
   "outputs": [],
   "source": [
    "x = np.linspace(-5, 5)\n",
    "y = x*x\n",
    "ax, fig = plt.subplots()\n",
    "# plt.axis([-5,5,0,25])\n",
    "fig.grid()\n",
    "fig.plot(x,y)"
   ]
  },
  {
   "cell_type": "code",
   "execution_count": null,
   "metadata": {},
   "outputs": [],
   "source": [
    "plt.plot(x,np.sin(x), color='blue', label='sin')\n",
    "plt.plot(x,np.cos(x), color='#FFAABB', linestyle='dashed', label='cos')\n",
    "plt.grid()\n",
    "plt.legend()"
   ]
  },
  {
   "cell_type": "code",
   "execution_count": null,
   "metadata": {},
   "outputs": [],
   "source": [
    "h = np.linspace(0, 1_000_000)\n",
    "v = earth_orbital_velocity(h)\n",
    "T = earth_orbital_period(h)\n",
    "\n",
    "fig, (ax0,ax1) = plt.subplots(1, 2, figsize=(5, 3))\n",
    "plt.subplots_adjust(wspace=.5)\n",
    "\n",
    "ax0.plot(h/1000, v/1000, label=\"Earth Orbital Velocity\")\n",
    "ax1.plot(h/1000, T/60, label=\"Earth Orbital Period\")\n",
    "\n",
    "ax0.set_title(\"Earth Orbital Velocity\")\n",
    "ax1.set_title(\"Earth Orbital Period\")\n",
    "# plt.plot(h/1000, orbital_speed_circle(h + r_Moon)/1000, label=\"Moon Orbital Velocity\")\n",
    "# plt.plot(h/1000, orbital_period_circle(h + r_Moon)/60/60, label=\"Moon Orbital Period\")\n",
    "\n",
    "ax0.set_xlabel(\"Height in km\")\n",
    "ax1.set_xlabel(\"Height in km\")\n",
    "ax0.set_ylabel(\"Speed in km/s\")\n",
    "ax1.set_ylabel(\"Period in min\")\n",
    "ax0.grid()\n",
    "ax1.grid()"
   ]
  },
  {
   "cell_type": "code",
   "execution_count": null,
   "metadata": {},
   "outputs": [],
   "source": [
    "r_geo = orbital_height_circle(sidereal_day)\n",
    "phi = np.arccos(r_E/r_geo)\n",
    "\n",
    "mantel_area = 2 * pi * r_E**2 * (1 - np.cos(phi))\n",
    "area_whole = 4 * pi * r_E**2\n",
    "\n",
    "print(f\"A geostationary satelite can see {mantel_area / area_whole:.2%} of the Earth\")\n",
    "\n"
   ]
  },
  {
   "cell_type": "code",
   "execution_count": null,
   "metadata": {},
   "outputs": [],
   "source": [
    "h_ISS = 408_000\n",
    "print(f\"The ISS can see {relative_area_visible_from_height(h_ISS):.2%} of the Earth\")"
   ]
  },
  {
   "cell_type": "code",
   "execution_count": null,
   "metadata": {},
   "outputs": [],
   "source": [
    "h0 = 500_000   # LEO\n",
    "i = np.deg2rad(7)\n",
    "h1 = 35_837_300 # GEO\n",
    "\n",
    "v_LEO = orbital_speed_circle(h0 + r_E)\n",
    "v_GEO = orbital_speed_circle(h1 + r_E)\n",
    "\n",
    "# inclination change on LEO\n",
    "dV_i = inclination_change(i, v_LEO)\n",
    "dV_Hohmann =  hohmann_manoeuvre(h0, h1)\n",
    "dV_LEO = dV_i + dV_Hohmann\n",
    "print(f\"dV needed when changing inclination in LEO                   : {dV_LEO:8.2f}m/s ( i: {dV_i:7.2f};  O: {dV_Hohmann:.2f})\")\n",
    "\n",
    "# parallel inclination change peri\n",
    "v1 = v_LEO\n",
    "v2 = orbital_speed(h0 + r_E, (h0+h1)/2+r_E)\n",
    "dV_i1 = inclination_change(i, v1, v2)\n",
    "dV_2 = v_GEO - orbital_speed(h1+r_E,(h0+h1)/2+r_E)\n",
    "dV_HOH_p = dV_i1 + dV_2\n",
    "print(f\"dV needed when changing inclination in first part of Hohmann : {dV_HOH_p:8.2f}m/s (1i: {dV_i1:7.2f};  2: {dV_2:.2f})\")\n",
    "\n",
    "# parallel inclination change apo\n",
    "dV_1 = orbital_speed(h0 + r_E, (h0+h1)/2+r_E) - v_LEO\n",
    "v1 = orbital_speed(h1 + r_E, (h0+h1) / 2+r_E)\n",
    "v2 = v_GEO\n",
    "dV_i2 = inclination_change(i, v1, v2)\n",
    "dV_HOH_a = dV_1 + dV_i2\n",
    "print(f\"dV needed when changing inclination in second part of Hohmann: {dV_HOH_a:8.2f}m/s ( 1: {dV_1:7.2f}; 2i: {dV_i2:.2f})\")\n",
    "\n",
    "# inclination GEO\n",
    "dV_iGEO = inclination_change(i, v_GEO)\n",
    "dV_GEO = dV_iGEO + dV_Hohmann\n",
    "print(f\"dV needed when changing inclination in GEO                   : {dV_GEO:8.2f}m/s ( O: {dV_Hohmann:7.2f};  i: {dV_iGEO:7.2f})\")\n"
   ]
  },
  {
   "cell_type": "code",
   "execution_count": null,
   "metadata": {},
   "outputs": [],
   "source": []
  }
 ],
 "metadata": {
  "interpreter": {
   "hash": "31f2aee4e71d21fbe5cf8b01ff0e069b9275f58929596ceb00d14d90e3e16cd6"
  },
  "kernelspec": {
   "display_name": "Python 3.9.2 64-bit",
   "language": "python",
   "name": "python3"
  },
  "language_info": {
   "codemirror_mode": {
    "name": "ipython",
    "version": 3
   },
   "file_extension": ".py",
   "mimetype": "text/x-python",
   "name": "python",
   "nbconvert_exporter": "python",
   "pygments_lexer": "ipython3",
   "version": "3.9.2"
  },
  "orig_nbformat": 4
 },
 "nbformat": 4,
 "nbformat_minor": 2
}
